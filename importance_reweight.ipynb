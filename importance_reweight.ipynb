{
 "cells": [
  {
   "cell_type": "code",
   "execution_count": 2,
   "metadata": {},
   "outputs": [
    {
     "name": "stdout",
     "output_type": "stream",
     "text": [
      "Accuracy on test set: 0.46\n",
      "MSE of the model: 0.54\n"
     ]
    }
   ],
   "source": [
    "import numpy as np\n",
    "from sklearn.linear_model import LogisticRegression\n",
    "from sklearn.metrics import accuracy_score, mean_squared_error\n",
    "from sklearn.model_selection import train_test_split\n",
    "\n",
    "# Generate synthetic data\n",
    "np.random.seed(0)\n",
    "X = np.random.randn(1000, 10)\n",
    "y = np.random.randint(0, 2, size=1000)  # Binary classification\n",
    "\n",
    "# Introduce noise\n",
    "noise_rate = 0.2\n",
    "y_noisy = y.copy()\n",
    "n_noisy = int(noise_rate * y.shape[0])\n",
    "noise_indices = np.random.choice(y.shape[0], n_noisy, replace=False)\n",
    "y_noisy[noise_indices] = 1 - y_noisy[noise_indices]  # Flip the labels\n",
    "\n",
    "# Split the data\n",
    "X_train, X_test, y_train, y_test = train_test_split(X, y, test_size=0.2, random_state=42)\n",
    "_, _, y_train_noisy, _ = train_test_split(X, y_noisy, test_size=0.2, random_state=42)\n",
    "\n",
    "# Estimate noise transition matrix T\n",
    "T = np.array([[0.8, 0.2], [0.2, 0.8]])  # Example of a known noise transition matrix\n",
    "\n",
    "# Compute importance weights\n",
    "def compute_importance_weights(y_true, y_noisy, T):\n",
    "    weights = np.zeros_like(y_noisy, dtype=float)\n",
    "    for i in range(len(y_noisy)):\n",
    "        weights[i] = T[y_true[i], y_noisy[i]] / T[y_noisy[i], y_noisy[i]]\n",
    "    return weights\n",
    "\n",
    "weights = compute_importance_weights(y_train, y_train_noisy, T)\n",
    "\n",
    "# Train a classifier with weighted samples\n",
    "clf = LogisticRegression()\n",
    "clf.fit(X_train, y_train_noisy, sample_weight=weights)\n",
    "\n",
    "# Evaluate the classifier\n",
    "y_pred = clf.predict(X_test)\n",
    "accuracy = accuracy_score(y_test, y_pred)\n",
    "print(\"Accuracy on test set:\", accuracy)\n",
    "print(\"MSE of the model:\", mean_squared_error(y_test, y_pred))"
   ]
  }
 ],
 "metadata": {
  "kernelspec": {
   "display_name": "venv",
   "language": "python",
   "name": "python3"
  },
  "language_info": {
   "codemirror_mode": {
    "name": "ipython",
    "version": 3
   },
   "file_extension": ".py",
   "mimetype": "text/x-python",
   "name": "python",
   "nbconvert_exporter": "python",
   "pygments_lexer": "ipython3",
   "version": "3.12.3"
  }
 },
 "nbformat": 4,
 "nbformat_minor": 2
}
