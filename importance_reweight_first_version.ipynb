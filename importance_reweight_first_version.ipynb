{
 "cells": [
  {
   "cell_type": "code",
   "execution_count": 1,
   "metadata": {},
   "outputs": [],
   "source": [
    "import numpy as np\n",
    "from sklearn.linear_model import LogisticRegression\n",
    "from sklearn.metrics import accuracy_score, mean_squared_error\n",
    "from sklearn.model_selection import train_test_split\n",
    "from sklearn.neighbors import KernelDensity\n",
    "from sklearn.svm import SVC"
   ]
  },
  {
   "cell_type": "markdown",
   "metadata": {},
   "source": [
    "##### Generate the synthetic data"
   ]
  },
  {
   "cell_type": "code",
   "execution_count": 2,
   "metadata": {},
   "outputs": [],
   "source": [
    "# Generate synthetic data\n",
    "np.random.seed(0)\n",
    "X = np.random.randn(1000, 10)\n",
    "y = np.random.randint(0, 2, size=1000)  # Binary classification\n",
    "\n",
    "# Introduce noise\n",
    "noise_rate = 0.2\n",
    "y_noisy = y.copy()\n",
    "n_noisy = int(noise_rate * y.shape[0])\n",
    "noise_indices = np.random.choice(y.shape[0], n_noisy, replace=False)\n",
    "y_noisy[noise_indices] = 1 - y_noisy[noise_indices]  # Flip the labels\n",
    "\n",
    "# Split the data\n",
    "X_train, X_test, y_train, y_test = train_test_split(X, y, test_size=0.2, random_state=42)\n",
    "_, _, y_train_noisy, _ = train_test_split(X, y_noisy, test_size=0.2, random_state=42)"
   ]
  },
  {
   "cell_type": "markdown",
   "metadata": {},
   "source": [
    "##### Example of a known noise transition matrix T"
   ]
  },
  {
   "cell_type": "code",
   "execution_count": 3,
   "metadata": {},
   "outputs": [
    {
     "name": "stdout",
     "output_type": "stream",
     "text": [
      "Accuracy on test set: 0.46\n",
      "MSE of the model: 0.54\n"
     ]
    }
   ],
   "source": [
    "# Estimate noise transition matrix T\n",
    "T = np.array([[0.8, 0.2], [0.2, 0.8]])  # Example of a known noise transition matrix\n",
    "\n",
    "# Compute importance weights\n",
    "def compute_importance_weights(y_true, y_noisy, T):\n",
    "    weights = np.zeros_like(y_noisy, dtype=float)\n",
    "    for i in range(len(y_noisy)):\n",
    "        weights[i] = T[y_true[i], y_noisy[i]] / T[y_noisy[i], y_noisy[i]]\n",
    "    return weights\n",
    "\n",
    "weights = compute_importance_weights(y_train, y_train_noisy, T)\n",
    "\n",
    "# Train a classifier with weighted samples\n",
    "clf = LogisticRegression()\n",
    "clf.fit(X_train, y_train_noisy, sample_weight=weights)\n",
    "\n",
    "# Evaluate the classifier\n",
    "y_pred = clf.predict(X_test)\n",
    "accuracy = accuracy_score(y_test, y_pred)\n",
    "print(\"Accuracy on test set:\", accuracy)\n",
    "print(\"MSE of the model:\", mean_squared_error(y_test, y_pred))"
   ]
  },
  {
   "cell_type": "markdown",
   "metadata": {},
   "source": [
    "### Estimate T using KDE"
   ]
  },
  {
   "cell_type": "code",
   "execution_count": 11,
   "metadata": {},
   "outputs": [
    {
     "name": "stdout",
     "output_type": "stream",
     "text": [
      "Logistic Regression with Importance Reweighting Accuracy on test set: 0.48\n",
      "Logistic Regression Accuracy on clean test set: 0.48\n",
      "SVM Accuracy on clean test set: 0.545\n"
     ]
    }
   ],
   "source": [
    "from sklearn.neighbors import KernelDensity\n",
    "from sklearn.svm import SVC\n",
    "\n",
    "# Kernel Density Estimation (KDE)\n",
    "def estimate_noise_transition_matrix(X, y_noisy, noise_rate):\n",
    "    kde = KernelDensity(kernel='gaussian', bandwidth=0.5).fit(X)\n",
    "    log_density = kde.score_samples(X) # compute log-density of the data points\n",
    "    density = np.exp(log_density)\n",
    "    \n",
    "    # Estimate transition probabilities\n",
    "    p_y_given_x = np.mean(density[y_noisy == 1]) / np.mean(density)\n",
    "    p_not_y_given_x = 1 - p_y_given_x\n",
    "    \n",
    "    # Transition matrix (for binary classification)\n",
    "    T = np.array([[1 - p_not_y_given_x, p_not_y_given_x], \n",
    "                  [p_y_given_x, 1 - p_y_given_x]])\n",
    "    return T\n",
    "\n",
    "T = estimate_noise_transition_matrix(X_train, y_train_noisy, noise_rate)\n",
    "\n",
    "# Compute importance weights\n",
    "def compute_importance_weights(y_true, y_noisy, T):\n",
    "    weights = np.zeros_like(y_noisy, dtype=float)\n",
    "    for i in range(len(y_noisy)):\n",
    "        true_class = y_true[i]\n",
    "        noisy_class = y_noisy[i]\n",
    "        weights[i] = T[true_class, noisy_class] / T[noisy_class, noisy_class]\n",
    "    return weights\n",
    "\n",
    "weights = compute_importance_weights(y_train, y_train_noisy, T)\n",
    "\n",
    "# Train a logistic regression classifier with weighted samples\n",
    "clf = LogisticRegression()\n",
    "clf.fit(X_train, y_train_noisy, sample_weight=weights)\n",
    "# Evaluate the classifier\n",
    "y_pred = clf.predict(X_test)\n",
    "accuracy = accuracy_score(y_test, y_pred)\n",
    "print(\"Logistic Regression with Importance Reweighting Accuracy on test set:\", accuracy)\n",
    "\n",
    "# Train Logistic Regression on noisy data\n",
    "clf_logistic = LogisticRegression()\n",
    "clf_logistic.fit(X_train, y_train_noisy)\n",
    "# Evaluate the classifiers\n",
    "y_pred_logistic = clf_logistic.predict(X_test)\n",
    "accuracy_logistic = accuracy_score(y_test, y_pred_logistic)\n",
    "print(\"Logistic Regression Accuracy on clean test set:\", accuracy_logistic)\n",
    "\n",
    "# Train SVM on noisy data\n",
    "clf_svm = SVC()\n",
    "clf_svm.fit(X_train, y_train_noisy)\n",
    "# Evaluate the classifiers\n",
    "y_pred_svm = clf_svm.predict(X_test)\n",
    "accuracy_svm = accuracy_score(y_test, y_pred_svm)\n",
    "print(\"SVM Accuracy on clean test set:\", accuracy_svm)"
   ]
  },
  {
   "cell_type": "markdown",
   "metadata": {},
   "source": [
    "### Importance weighted logistic loss with estimated noise rates\n",
    "Kernel Logistic-Loss-Based Method"
   ]
  },
  {
   "cell_type": "code",
   "execution_count": 10,
   "metadata": {},
   "outputs": [
    {
     "name": "stdout",
     "output_type": "stream",
     "text": [
      "Kernel Logistic Regression with Importance Reweighting Accuracy on test set: 0.475\n",
      "Logistic Regression Accuracy on clean test set: 0.48\n",
      "SVM Accuracy on clean test set: 0.545\n"
     ]
    }
   ],
   "source": [
    "# Kernel Density Estimation (KDE)\n",
    "def estimate_noise_rates(X, y_noisy):\n",
    "    kde = KernelDensity(kernel='gaussian', bandwidth=0.5).fit(X)\n",
    "    log_density = kde.score_samples(X)\n",
    "    density = np.exp(log_density)\n",
    "    \n",
    "    # Estimate conditional probabilities\n",
    "    p_y1_given_x = density[y_noisy == 1] / density.mean()\n",
    "    p_y0_given_x = density[y_noisy == 0] / density.mean()\n",
    "    \n",
    "    # Estimate noise rates\n",
    "    rho_plus_1 = np.min(p_y0_given_x) # flipped from -1 to +1\n",
    "    rho_minus_1 = np.min(p_y1_given_x) # flipped from +1 to -1\n",
    "    \n",
    "    return rho_minus_1, rho_plus_1\n",
    "\n",
    "rho_minus_1, rho_plus_1 = estimate_noise_rates(X_train, y_train_noisy)\n",
    "\n",
    "# Compute importance weights\n",
    "def compute_importance_weights(y_true, y_noisy, rho_minus_1, rho_plus_1):\n",
    "    weights = np.zeros_like(y_noisy, dtype=float)\n",
    "    for i in range(len(y_noisy)):\n",
    "        if y_noisy[i] == 1:\n",
    "            weights[i] = 1 - rho_minus_1 # the likelihood that a sample labeled as 1 is indeed a true positive\n",
    "        else:\n",
    "            weights[i] = 1 - rho_plus_1 # the likelihood that a sample labeled as -1 is indeed a true negative\n",
    "    return weights\n",
    "\n",
    "weights = compute_importance_weights(y_train, y_train_noisy, rho_minus_1, rho_plus_1)\n",
    "\n",
    "# Train a logistic regression classifier with weighted samples\n",
    "clf = LogisticRegression()\n",
    "clf.fit(X_train, y_train_noisy, sample_weight=weights)\n",
    "# Evaluate the classifier\n",
    "y_pred = clf.predict(X_test)\n",
    "accuracy = accuracy_score(y_test, y_pred)\n",
    "print(\"Kernel Logistic Regression with Importance Reweighting Accuracy on test set:\", accuracy)\n",
    "\n",
    "# Train Logistic Regression on noisy data\n",
    "clf_logistic = LogisticRegression()\n",
    "clf_logistic.fit(X_train, y_train_noisy)\n",
    "# Evaluate the classifiers\n",
    "y_pred_logistic = clf_logistic.predict(X_test)\n",
    "accuracy_logistic = accuracy_score(y_test, y_pred_logistic)\n",
    "print(\"Logistic Regression Accuracy on clean test set:\", accuracy_logistic)\n",
    "\n",
    "# Train SVM on noisy data\n",
    "clf_svm = SVC()\n",
    "clf_svm.fit(X_train, y_train_noisy)\n",
    "# Evaluate the classifiers\n",
    "y_pred_svm = clf_svm.predict(X_test)\n",
    "accuracy_svm = accuracy_score(y_test, y_pred_svm)\n",
    "print(\"SVM Accuracy on clean test set:\", accuracy_svm)"
   ]
  },
  {
   "cell_type": "code",
   "execution_count": 2,
   "metadata": {},
   "outputs": [
    {
     "name": "stdout",
     "output_type": "stream",
     "text": [
      "Mean accuracy of reweighted logistic regression: 0.5019\n",
      "Mean accuracy of logistic regression: 0.4995\n",
      "Mean accuracy of SVM: 0.5005\n"
     ]
    },
    {
     "data": {
      "image/png": "[encoded data removed]",
      "text/plain": [
       "<Figure size 1000x600 with 1 Axes>"
      ]
     },
     "metadata": {},
     "output_type": "display_data"
    }
   ],
   "source": [
    "import numpy as np\n",
    "from sklearn.linear_model import LogisticRegression\n",
    "from sklearn.metrics import accuracy_score\n",
    "from sklearn.model_selection import train_test_split\n",
    "from sklearn.neighbors import KernelDensity\n",
    "from sklearn.svm import SVC\n",
    "import matplotlib.pyplot as plt\n",
    "\n",
    "# Fix a Simulation Distribution\n",
    "def generate_data(n_samples=1000, n_features=10, noise_rate=0.2):\n",
    "    X = np.random.randn(n_samples, n_features)\n",
    "    y = np.random.randint(0, 2, size=n_samples)\n",
    "    y_noisy = y.copy()\n",
    "    n_noisy = int(noise_rate * y.shape[0])\n",
    "    noise_indices = np.random.choice(y.shape[0], n_noisy, replace=False)\n",
    "    y_noisy[noise_indices] = 1 - y_noisy[noise_indices]\n",
    "    return X, y, y_noisy\n",
    "\n",
    "# Produce \"Infinitely Many\" Independent and Identically Distributed Datasets\n",
    "def estimate_noise_rates(X, y_noisy):\n",
    "    kde = KernelDensity(kernel='gaussian', bandwidth=0.5).fit(X)\n",
    "    log_density = kde.score_samples(X)\n",
    "    density = np.exp(log_density)\n",
    "    \n",
    "    # Estimate conditional probabilities\n",
    "    p_y1_given_x = density[y_noisy == 1] / density.mean()\n",
    "    p_y0_given_x = density[y_noisy == 0] / density.mean()\n",
    "    \n",
    "    # Estimate noise rates\n",
    "    rho_plus_1 = np.min(p_y0_given_x)  # flipped from 0 to 1\n",
    "    rho_minus_1 = np.min(p_y1_given_x)  # flipped from 1 to 0\n",
    "    \n",
    "    return rho_minus_1, rho_plus_1\n",
    "\n",
    "def compute_importance_weights(y_true, y_noisy, rho_minus_1, rho_plus_1):\n",
    "    weights = np.zeros_like(y_noisy, dtype=float)\n",
    "    for i in range(len(y_noisy)):\n",
    "        if y_noisy[i] == 1:\n",
    "            weights[i] = 1 - rho_minus_1  # the likelihood that a sample labeled as 1 is indeed a true positive\n",
    "        else:\n",
    "            weights[i] = 1 - rho_plus_1  # the likelihood that a sample labeled as 0 is indeed a true negative\n",
    "    return weights\n",
    "\n",
    "def apply_methods(X_train, y_train_noisy, X_test, y_test):\n",
    "    rho_minus_1, rho_plus_1 = estimate_noise_rates(X_train, y_train_noisy)\n",
    "    weights = compute_importance_weights(y_train, y_train_noisy, rho_minus_1, rho_plus_1)\n",
    "\n",
    "    # Train logistic regression with reweighting\n",
    "    clf_reweighted = LogisticRegression()\n",
    "    clf_reweighted.fit(X_train, y_train_noisy, sample_weight=weights)\n",
    "    y_pred_reweighted = clf_reweighted.predict(X_test)\n",
    "    accuracy_reweighted = accuracy_score(y_test, y_pred_reweighted)\n",
    "\n",
    "    # Train logistic regression without reweighting\n",
    "    clf_logistic = LogisticRegression()\n",
    "    clf_logistic.fit(X_train, y_train_noisy)\n",
    "    y_pred_logistic = clf_logistic.predict(X_test)\n",
    "    accuracy_logistic = accuracy_score(y_test, y_pred_logistic)\n",
    "\n",
    "    # Train SVM without reweighting\n",
    "    clf_svm = SVC()\n",
    "    clf_svm.fit(X_train, y_train_noisy)\n",
    "    y_pred_svm = clf_svm.predict(X_test)\n",
    "    accuracy_svm = accuracy_score(y_test, y_pred_svm)\n",
    "\n",
    "    return accuracy_reweighted, accuracy_logistic, accuracy_svm\n",
    "\n",
    "# Apply the Methods to Each Dataset and analyze the \"Second Level Dataset\"\n",
    "n_simulations = 100\n",
    "n_samples = 1000\n",
    "n_features = 10\n",
    "noise_rate = 0.2\n",
    "\n",
    "accuracies_reweighted = []\n",
    "accuracies_logistic = []\n",
    "accuracies_svm = []\n",
    "\n",
    "for _ in range(n_simulations):\n",
    "    X, y, y_noisy = generate_data(n_samples=n_samples, n_features=n_features, noise_rate=noise_rate)\n",
    "    X_train, X_test, y_train, y_test = train_test_split(X, y, test_size=0.2, random_state=42)\n",
    "    _, _, y_train_noisy, _ = train_test_split(X, y_noisy, test_size=0.2, random_state=42)\n",
    "\n",
    "    acc_reweighted, acc_logistic, acc_svm = apply_methods(X_train, y_train_noisy, X_test, y_test)\n",
    "    accuracies_reweighted.append(acc_reweighted)\n",
    "    accuracies_logistic.append(acc_logistic)\n",
    "    accuracies_svm.append(acc_svm)\n",
    "\n",
    "# Compare the Results with the Ground Truth\n",
    "print(f\"Mean accuracy of reweighted logistic regression: {np.mean(accuracies_reweighted):.4f}\")\n",
    "print(f\"Mean accuracy of logistic regression: {np.mean(accuracies_logistic):.4f}\")\n",
    "print(f\"Mean accuracy of SVM: {np.mean(accuracies_svm):.4f}\")\n",
    "\n",
    "# Plot the results\n",
    "plt.figure(figsize=(10, 6))\n",
    "plt.boxplot([accuracies_reweighted, accuracies_logistic, accuracies_svm], labels=['Reweighted Logistic Regression', 'Logistic Regression', 'SVM'])\n",
    "plt.ylabel('Accuracy')\n",
    "plt.title('Comparison of Methods for Handling Noisy Labels')\n",
    "plt.show()"
   ]
  },
  {
   "cell_type": "markdown",
   "metadata": {},
   "source": [
    "Linear Logistic-Loss-Based"
   ]
  },
  {
   "cell_type": "code",
   "execution_count": 4,
   "metadata": {},
   "outputs": [
    {
     "name": "stdout",
     "output_type": "stream",
     "text": [
      "Linear Logistic Regression with Importance Reweighting Accuracy on test set: 0.495\n"
     ]
    }
   ],
   "source": [
    "# Estimate noise rates directly (here using simple proportion of flipped labels)\n",
    "rho_plus_1 = np.sum(y_train_noisy[y_train == 0] == 1) / np.sum(y_train == 0)\n",
    "rho_minus_1 = np.sum(y_train_noisy[y_train == 1] == 0) / np.sum(y_train == 1)\n",
    "\n",
    "# Compute importance weights\n",
    "def compute_importance_weights(y_true, y_noisy, rho_minus_1, rho_plus_1):\n",
    "    weights = np.zeros_like(y_noisy, dtype=float)\n",
    "    for i in range(len(y_noisy)):\n",
    "        if y_noisy[i] == 1:\n",
    "            weights[i] = 1 - rho_minus_1  # the likelihood that a sample labeled as 1 is indeed a true positive\n",
    "        else:\n",
    "            weights[i] = 1 - rho_plus_1  # the likelihood that a sample labeled as 0 (here interpreted as -1) is indeed a true negative\n",
    "    return weights\n",
    "\n",
    "weights = compute_importance_weights(y_train, y_train_noisy, rho_minus_1, rho_plus_1)\n",
    "\n",
    "# Train a logistic regression classifier with weighted samples\n",
    "clf = LogisticRegression()\n",
    "clf.fit(X_train, y_train_noisy, sample_weight=weights)\n",
    "\n",
    "# Evaluate the classifier\n",
    "y_pred = clf.predict(X_test)\n",
    "accuracy = accuracy_score(y_test, y_pred)\n",
    "print(\"Linear Logistic Regression with Importance Reweighting Accuracy on test set:\", accuracy)"
   ]
  },
  {
   "cell_type": "markdown",
   "metadata": {},
   "source": [
    "### Example of KDE and asymmetric noise"
   ]
  },
  {
   "cell_type": "code",
   "execution_count": 6,
   "metadata": {},
   "outputs": [],
   "source": [
    "# Regenerate synthetic data\n",
    "np.random.seed(0)\n",
    "X = np.random.randn(1000, 10)\n",
    "y = np.random.randint(0, 2, size=1000)  # Binary classification\n",
    "\n",
    "# Introduce asymmetric noise\n",
    "asym_noise_rate_0_to_1 = 0.1  # Noise rate for class 0 flipped to class 1\n",
    "asym_noise_rate_1_to_0 = 0.3  # Noise rate for class 1 flipped to class 0\n",
    "y_noisy = y.copy()\n",
    "\n",
    "# Flip labels from 0 to 1 with probability asym_noise_rate_0_to_1\n",
    "indices_0_to_1 = np.where(y == 0)[0]\n",
    "flip_indices_0_to_1 = np.random.choice(indices_0_to_1, int(asym_noise_rate_0_to_1 * len(indices_0_to_1)), replace=False)\n",
    "y_noisy[flip_indices_0_to_1] = 1\n",
    "\n",
    "# Flip labels from 1 to 0 with probability asym_noise_rate_1_to_0\n",
    "indices_1_to_0 = np.where(y == 1)[0]\n",
    "flip_indices_1_to_0 = np.random.choice(indices_1_to_0, int(asym_noise_rate_1_to_0 * len(indices_1_to_0)), replace=False)\n",
    "y_noisy[flip_indices_1_to_0] = 0\n",
    "\n",
    "# Split the data\n",
    "X_train, X_test, y_train, y_test = train_test_split(X, y, test_size=0.2, random_state=42)\n",
    "_, _, y_train_noisy, _ = train_test_split(X, y_noisy, test_size=0.2, random_state=42)"
   ]
  },
  {
   "cell_type": "code",
   "execution_count": 7,
   "metadata": {},
   "outputs": [
    {
     "name": "stdout",
     "output_type": "stream",
     "text": [
      "Logistic Regression with Importance Reweighting Accuracy on test set: 0.51\n",
      "Logistic Regression Accuracy on clean test set with asymmetric noise: 0.51\n",
      "SVM Accuracy on clean test set with asymmetric noise: 0.51\n"
     ]
    }
   ],
   "source": [
    "# Kernel Density Estimation (KDE)\n",
    "def estimate_noise_transition_matrix(X, y_noisy, noise_rate):\n",
    "    kde = KernelDensity(kernel='gaussian', bandwidth=0.5).fit(X)\n",
    "    log_density = kde.score_samples(X) # compute log-density of the data points\n",
    "    density = np.exp(log_density)\n",
    "    \n",
    "    # Estimate transition probabilities\n",
    "    p_y_given_x = np.mean(density[y_noisy == 1]) / np.mean(density)\n",
    "    p_not_y_given_x = 1 - p_y_given_x\n",
    "    \n",
    "    # Transition matrix (for binary classification)\n",
    "    T = np.array([[1 - p_not_y_given_x, p_not_y_given_x], \n",
    "                  [p_y_given_x, 1 - p_y_given_x]])\n",
    "    return T\n",
    "\n",
    "T = estimate_noise_transition_matrix(X_train, y_train_noisy, noise_rate)\n",
    "\n",
    "# Compute importance weights\n",
    "def compute_importance_weights(y_true, y_noisy, T):\n",
    "    weights = np.zeros_like(y_noisy, dtype=float)\n",
    "    for i in range(len(y_noisy)):\n",
    "        true_class = y_true[i]\n",
    "        noisy_class = y_noisy[i]\n",
    "        weights[i] = T[true_class, noisy_class] / T[noisy_class, noisy_class]\n",
    "    return weights\n",
    "\n",
    "weights = compute_importance_weights(y_train, y_train_noisy, T)\n",
    "\n",
    "# Train a logistic regression classifier with weighted samples\n",
    "clf = LogisticRegression()\n",
    "clf.fit(X_train, y_train_noisy, sample_weight=weights)\n",
    "# Evaluate the classifier\n",
    "y_pred = clf.predict(X_test)\n",
    "accuracy = accuracy_score(y_test, y_pred)\n",
    "print(\"Logistic Regression with Importance Reweighting Accuracy on test set:\", accuracy)\n",
    "\n",
    "# Train Logistic Regression on noisy data\n",
    "clf_logistic = LogisticRegression()\n",
    "clf_logistic.fit(X_train, y_train_noisy)\n",
    "# Evaluate the classifiers\n",
    "y_pred_logistic = clf_logistic.predict(X_test)\n",
    "accuracy_logistic = accuracy_score(y_test, y_pred_logistic)\n",
    "print(\"Logistic Regression Accuracy on clean test set with asymmetric noise:\", accuracy_logistic)\n",
    "\n",
    "# Train SVM on noisy data\n",
    "clf_svm = SVC()\n",
    "clf_svm.fit(X_train, y_train_noisy)\n",
    "y_pred_svm = clf_svm.predict(X_test)\n",
    "accuracy_svm = accuracy_score(y_test, y_pred_svm)\n",
    "print(\"SVM Accuracy on clean test set with asymmetric noise:\", accuracy_svm)"
   ]
  },
  {
   "cell_type": "code",
   "execution_count": null,
   "metadata": {},
   "outputs": [],
   "source": []
  },
  {
   "cell_type": "code",
   "execution_count": null,
   "metadata": {},
   "outputs": [],
   "source": []
  }
 ],
 "metadata": {
  "kernelspec": {
   "display_name": "venv",
   "language": "python",
   "name": "python3"
  },
  "language_info": {
   "codemirror_mode": {
    "name": "ipython",
    "version": 3
   },
   "file_extension": ".py",
   "mimetype": "text/x-python",
   "name": "python",
   "nbconvert_exporter": "python",
   "pygments_lexer": "ipython3",
   "version": "3.12.3"
  }
 },
 "nbformat": 4,
 "nbformat_minor": 2
}
